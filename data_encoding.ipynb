{
  "nbformat": 4,
  "nbformat_minor": 0,
  "metadata": {
    "colab": {
      "provenance": []
    },
    "kernelspec": {
      "name": "python3",
      "display_name": "Python 3"
    },
    "language_info": {
      "name": "python"
    }
  },
  "cells": [
    {
      "cell_type": "code",
      "execution_count": null,
      "metadata": {
        "id": "YeLvVhUj675U"
      },
      "outputs": [],
      "source": [
        "from google.colab import drive\n",
        "drive.mount('/content/gdrive')"
      ]
    },
    {
      "cell_type": "code",
      "source": [
        "import numpy as np\n",
        "import tensorflow as tf\n",
        "import tensorflow.keras as keras\n",
        "from tensorflow.keras.applications import MobileNetV2\n",
        "from tensorflow.keras.models import Model\n",
        "import os\n",
        "import matplotlib.pyplot as plt\n",
        "import random"
      ],
      "metadata": {
        "id": "A7WEKwnZ7Ruv"
      },
      "execution_count": null,
      "outputs": []
    },
    {
      "cell_type": "code",
      "source": [
        "def set_all_seeds(seed):\n",
        "    os.environ[\"PL_GLOBAL_SEED\"] = str(seed)\n",
        "    random.seed(seed)\n",
        "    np.random.seed(seed)\n",
        "    tf.random.set_seed(seed)\n",
        "    tf.experimental.numpy.random.seed(seed)\n",
        "    os.environ['TF_CUDNN_DETERMINISTIC'] = '1'\n",
        "    os.environ['TF_DETERMINISTIC_OPS'] = '1'\n",
        "    os.environ[\"PYTHONHASHSEED\"] = str(seed)\n",
        "\n",
        "set_all_seeds(420)"
      ],
      "metadata": {
        "id": "_affRQjXjvCq"
      },
      "execution_count": null,
      "outputs": []
    },
    {
      "cell_type": "code",
      "source": [
        "model = MobileNetV2(\n",
        "    input_shape=None, alpha=1.0, include_top=True, weights='imagenet',\n",
        "    input_tensor=None, pooling=None, classes=1000\n",
        ")"
      ],
      "metadata": {
        "id": "S-BX4NME7SQX"
      },
      "execution_count": null,
      "outputs": []
    },
    {
      "cell_type": "code",
      "source": [
        "model.summary()"
      ],
      "metadata": {
        "id": "UaL7-0p47eZT"
      },
      "execution_count": null,
      "outputs": []
    },
    {
      "cell_type": "code",
      "source": [
        "!mkdir gdrive/MyDrive/flower_data/encoded"
      ],
      "metadata": {
        "id": "hh1kjy5S7jFc"
      },
      "execution_count": null,
      "outputs": []
    },
    {
      "cell_type": "code",
      "source": [
        "!mkdir gdrive/MyDrive/flower_data/encoded/test gdrive/MyDrive/flower_data/encoded/train gdrive/MyDrive/flower_data/encoded/val"
      ],
      "metadata": {
        "id": "Bi-w0-qU8gBu"
      },
      "execution_count": null,
      "outputs": []
    },
    {
      "cell_type": "code",
      "source": [
        "layer_name = 'block_15_add'\n",
        "feature_extractor = Model(inputs=model.input, outputs=model.get_layer(layer_name).output)"
      ],
      "metadata": {
        "id": "xIBNw3GV-BsW"
      },
      "execution_count": null,
      "outputs": []
    },
    {
      "cell_type": "code",
      "source": [
        "for set_kind in [\"train\", \"val\", \"test\"]:\n",
        "    source_dir = \"gdrive/MyDrive/flower_data/augmented_new/\" + set_kind\n",
        "    sink_dir = \"gdrive/MyDrive/flower_data/encoded/\" + set_kind\n",
        "\n",
        "    for i, directory in enumerate(os.listdir(source_dir)):\n",
        "        print(f\"\\r[{i}] {source_dir}/{directory}\", end='')\n",
        "        dump = []\n",
        "\n",
        "        for i, file in enumerate(os.listdir(f\"{source_dir}/{directory}\")):\n",
        "            image = tf.keras.preprocessing.image.load_img(f\"{source_dir}/{directory}/{file}\")\n",
        "            x = tf.keras.preprocessing.image.img_to_array(image)\n",
        "            dump += [x]\n",
        "\n",
        "        preprocessed = tf.keras.applications.mobilenet_v2.preprocess_input(np.array(dump))\n",
        "        results = feature_extractor.predict(preprocessed)\n",
        "        np.save(f\"{sink_dir}/{directory}.npy\", results)"
      ],
      "metadata": {
        "id": "89xheNo-9qUs"
      },
      "execution_count": null,
      "outputs": []
    },
    {
      "cell_type": "code",
      "source": [
        "\n",
        "\n",
        "# Przygotowanie modelu do ekstrakcji cech\n",
        "feature_extractor = tf.keras.applications.MobileNetV2(weights='imagenet', include_top=False, pooling='avg')\n",
        "\n",
        "for set_kind in [\"train\", \"val\", \"test\"]:\n",
        "    source_dir = \"gdrive/MyDrive/flower_data/augmented_new/\" + set_kind\n",
        "    sink_dir = \"gdrive/MyDrive/flower_data/encoded/\" + set_kind\n",
        "\n",
        "    for i, directory in enumerate(os.listdir(source_dir)):\n",
        "        print(f\"\\r[{i}] {source_dir}/{directory}\", end='')\n",
        "        dump = []\n",
        "\n",
        "        for i, file in enumerate(os.listdir(f\"{source_dir}/{directory}\")):\n",
        "            image = tf.keras.preprocessing.image.load_img(f\"{source_dir}/{directory}/{file}\")\n",
        "            x = tf.keras.preprocessing.image.img_to_array(image)\n",
        "            dump.append(x)\n",
        "\n",
        "        preprocessed = tf.keras.applications.mobilenet_v2.preprocess_input(np.array(dump))\n",
        "        results = feature_extractor.predict(preprocessed)\n",
        "        np.save(f\"{sink_dir}/{directory}.npy\", results)\n"
      ],
      "metadata": {
        "id": "WLaG9lN_-0aO"
      },
      "execution_count": null,
      "outputs": []
    },
    {
      "cell_type": "code",
      "source": [],
      "metadata": {
        "id": "A9jOSwwEFnOX"
      },
      "execution_count": null,
      "outputs": []
    }
  ]
}
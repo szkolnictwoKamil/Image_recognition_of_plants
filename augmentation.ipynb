{
  "nbformat": 4,
  "nbformat_minor": 0,
  "metadata": {
    "colab": {
      "provenance": []
    },
    "kernelspec": {
      "name": "python3",
      "display_name": "Python 3"
    },
    "language_info": {
      "name": "python"
    }
  },
  "cells": [
    {
      "cell_type": "code",
      "source": [
        "import os\n",
        "import numpy as np\n",
        "import pandas as pd\n",
        "from PIL import Image\n",
        "import random\n",
        "from tensorflow.keras.preprocessing.image import random_rotation\n",
        "from tensorflow.image import random_crop\n",
        "from tensorflow.image import random_contrast\n",
        "from tensorflow.image import random_brightness\n",
        "from tensorflow.image import random_flip_left_right\n",
        "from tensorflow.image import random_hue\n",
        "from tensorflow.image import random_jpeg_quality\n",
        "from tensorflow.image import random_saturation\n",
        "from tensorflow.image import central_crop\n",
        "from tensorflow.errors import InvalidArgumentError\n",
        "import matplotlib.pyplot as plt\n",
        "import random\n",
        "import tensorflow as tf"
      ],
      "metadata": {
        "id": "bf1HLSEJ4gzh"
      },
      "execution_count": null,
      "outputs": []
    },
    {
      "cell_type": "code",
      "execution_count": null,
      "metadata": {
        "id": "glHp4BKOx8dP"
      },
      "outputs": [],
      "source": [
        "from google.colab import drive\n",
        "drive.mount(\"/content/gdrive\")"
      ]
    },
    {
      "cell_type": "code",
      "source": [
        "def set_all_seeds(seed):\n",
        "    os.environ[\"PL_GLOBAL_SEED\"] = str(seed)\n",
        "    random.seed(seed)\n",
        "    np.random.seed(seed)\n",
        "    tf.random.set_seed(seed)\n",
        "    tf.experimental.numpy.random.seed(seed)\n",
        "    os.environ['TF_CUDNN_DETERMINISTIC'] = '1'\n",
        "    os.environ['TF_DETERMINISTIC_OPS'] = '1'\n",
        "    os.environ[\"PYTHONHASHSEED\"] = str(seed)\n",
        "\n",
        "set_all_seeds(420)"
      ],
      "metadata": {
        "id": "hEQ07akGhDvG"
      },
      "execution_count": null,
      "outputs": []
    },
    {
      "cell_type": "code",
      "source": [
        "def count_elements_in_directories(root_directory='train'):\n",
        "  number_of_elements_in_classes = []\n",
        "  for directory in os.listdir('gdrive/MyDrive/flower_data/' + root_directory):\n",
        "    current_directory = os.listdir('gdrive/MyDrive/flower_data/' + root_directory + '/' + directory)\n",
        "    files_number = len(current_directory)\n",
        "    number_of_elements_in_classes.append(files_number)\n",
        "    print(f'{directory}: {files_number}')\n",
        "\n",
        "  return number_of_elements_in_classes"
      ],
      "metadata": {
        "id": "VybB1fm7pKnN"
      },
      "execution_count": null,
      "outputs": []
    },
    {
      "cell_type": "code",
      "source": [
        "def show(img):\n",
        "    display(Image.fromarray(img))"
      ],
      "metadata": {
        "id": "NnfTcx4F4Zfb"
      },
      "execution_count": null,
      "outputs": []
    },
    {
      "cell_type": "code",
      "source": [
        "def get_crop_size(img, minprop=0.7):\n",
        "    def rand_prop(x):\n",
        "        return x + (1. - x) * np.random.random()\n",
        "\n",
        "    height, width, chanells = img.shape\n",
        "    height_prop = 1.\n",
        "    width_prop = 1.\n",
        "\n",
        "    if height > width:\n",
        "        height_prop = rand_prop(minprop)\n",
        "        width_prop = rand_prop(height_prop)\n",
        "    else:\n",
        "        width_prop = rand_prop(minprop)\n",
        "        height_prop = rand_prop(width_prop)\n",
        "\n",
        "    height = np.floor(height_prop * height).astype(int)\n",
        "    width = np.floor(width_prop * width).astype(int)\n",
        "    return (height, width, chanells)"
      ],
      "metadata": {
        "id": "hcClBISS6CLw"
      },
      "execution_count": null,
      "outputs": []
    },
    {
      "cell_type": "code",
      "source": [
        "def apply_random_transforms(img):\n",
        "    img = random_rotation(img, 20, row_axis=0, col_axis=1, channel_axis=2, fill_mode='reflect')\n",
        "    img = random_contrast(img, 0.8, 1.2)\n",
        "    img = random_brightness(img, 0.08)\n",
        "    img = random_hue(img, 0.025)\n",
        "    img = random_saturation(img, 0.85, 1.15)\n",
        "    img = random_jpeg_quality(img, 75, 95)\n",
        "    img = random_flip_left_right(img)\n",
        "    return random_crop(img, get_crop_size(img, 0.67)).numpy()\n",
        "\n",
        "def get_augmented_image(img):\n",
        "    return Image.fromarray(apply_random_transforms(np.array(img))).resize((224, 224))"
      ],
      "metadata": {
        "id": "egNQjhp-6Pfo"
      },
      "execution_count": null,
      "outputs": []
    },
    {
      "cell_type": "code",
      "source": [
        "def get_augmented_image(img):\n",
        "    return Image.fromarray(apply_random_transforms(np.array(img.convert('RGB')))).resize((224, 224))"
      ],
      "metadata": {
        "id": "jms1Q7Yy6RXo"
      },
      "execution_count": null,
      "outputs": []
    },
    {
      "cell_type": "code",
      "source": [
        "classes = pd.read_csv('gdrive/MyDrive/flower_data/cat_to_name.json', header=None)"
      ],
      "metadata": {
        "id": "ffNHFk-c0Mlu"
      },
      "execution_count": null,
      "outputs": []
    },
    {
      "cell_type": "code",
      "source": [
        "classes"
      ],
      "metadata": {
        "id": "FuseqO1m2wZx"
      },
      "execution_count": null,
      "outputs": []
    },
    {
      "cell_type": "code",
      "source": [
        "X = {}\n",
        "\n",
        "for directory in os.listdir('gdrive/MyDrive/flower_data/train'):\n",
        "    print(directory)\n",
        "    X[directory] = []\n",
        "    for i, file in enumerate(os.listdir('gdrive/MyDrive/flower_data/train/' + directory)):\n",
        "        with Image.open('gdrive/MyDrive/flower_data/train/' + directory + '/' + file) as img:\n",
        "            X[directory] += [img.copy()]"
      ],
      "metadata": {
        "id": "in8_WGg23_t_",
        "collapsed": true
      },
      "execution_count": null,
      "outputs": []
    },
    {
      "cell_type": "code",
      "source": [
        "no_images_per_class = [len(x) for x in X.values()]\n",
        "print(np.sum(no_images_per_class))\n",
        "print(max(no_images_per_class))\n",
        "print(min(no_images_per_class))"
      ],
      "metadata": {
        "id": "9rybT50nBk5L"
      },
      "execution_count": null,
      "outputs": []
    },
    {
      "cell_type": "code",
      "source": [
        "X_val = {}\n",
        "\n",
        "\n",
        "for key, val in X.items():\n",
        "  val_samp = random.sample(X[key], 7)\n",
        "  X_val[key] = val_samp\n",
        "\n",
        "X_indexes = {}\n",
        "\n",
        "for key, val in X_val.items():\n",
        "  flower = X[key]\n",
        "  indexes = []\n",
        "  for image in val:\n",
        "      idx = flower.index(image)\n",
        "      indexes.append(idx)\n",
        "  X_indexes[key] = indexes\n",
        "\n",
        "print(X_indexes)"
      ],
      "metadata": {
        "id": "a6il_ffcRi59"
      },
      "execution_count": null,
      "outputs": []
    },
    {
      "cell_type": "code",
      "source": [
        "for key, value in X.items():\n",
        "  dest = \"gdrive/MyDrive/flower_data/train_reduced/{}/\".format(key)\n",
        "  os.makedirs(os.path.dirname(dest), exist_ok=True)\n",
        "  i = 0\n",
        "  for image in value:\n",
        "    if image not in X_val[key]:\n",
        "      image.save(dest + str(i),'jpeg')\n",
        "    i += 1\n",
        "  print(key)"
      ],
      "metadata": {
        "id": "po0P-ln2Wumr",
        "collapsed": true
      },
      "execution_count": null,
      "outputs": []
    },
    {
      "cell_type": "code",
      "source": [
        "for key, value in X_val.items():\n",
        "  dest = \"gdrive/MyDrive/flower_data/val/{}/\".format(key)\n",
        "  os.makedirs(os.path.dirname(dest), exist_ok=True)\n",
        "  i = 0\n",
        "  for image in value:\n",
        "    image.save(dest + str(i),'jpeg')\n",
        "    i += 1\n",
        "  print(key)"
      ],
      "metadata": {
        "id": "7jLSx7k7HwEq",
        "collapsed": true
      },
      "execution_count": null,
      "outputs": []
    },
    {
      "cell_type": "code",
      "source": [
        "train = count_elements_in_directories()\n",
        "print()\n",
        "train_reduced = count_elements_in_directories('train_reduced')\n",
        "print()\n",
        "for i in range(len(train)):\n",
        "  print(train[i] - train_reduced[i])"
      ],
      "metadata": {
        "id": "-SMpSbwFqBae",
        "collapsed": true
      },
      "execution_count": null,
      "outputs": []
    },
    {
      "cell_type": "code",
      "source": [
        "all_dirs = []\n",
        "\n",
        "for directory in os.listdir('gdrive/MyDrive/flower_data/train_reduced'):\n",
        "    all_dirs += [directory]"
      ],
      "metadata": {
        "id": "B_SKGZaEN68k"
      },
      "execution_count": null,
      "outputs": []
    },
    {
      "cell_type": "code",
      "source": [
        "for i, plant in enumerate(all_dirs):\n",
        "    print(\"[{:03}] '{}'\".format(i, plant))\n",
        "    original_photos = []\n",
        "    photos_names = []\n",
        "\n",
        "    for j, file in enumerate(os.listdir('gdrive/MyDrive/flower_data/train_reduced/' + plant)):\n",
        "        with Image.open('gdrive/MyDrive/flower_data/train_reduced/' + plant + '/' + file) as img:\n",
        "            original_photos += [img.copy()]\n",
        "            photos_names += ['gdrive/MyDrive/flower_data/train_reduced/' + plant + '/' + file]\n",
        "\n",
        "    dest = \"gdrive/MyDrive/flower_data/augmented_new/train/{}/\".format(plant)\n",
        "    os.makedirs(os.path.dirname(dest), exist_ok=True)\n",
        "\n",
        "    counter = 1\n",
        "\n",
        "    for j, img in enumerate(original_photos):\n",
        "        try:\n",
        "            img.convert('RGB').resize((224, 224)).save(\n",
        "                dest + \"{}_{}.jpg\".format(plant.replace(' ', '_'), counter)\n",
        "            )\n",
        "            counter += 1\n",
        "            print(\"\\r{}\".format(counter), end='')\n",
        "        except:\n",
        "            print(\"\\nError encountered: \", photos_names[j])\n",
        "            print(e)\n",
        "\n",
        "    n_items = len(original_photos)\n",
        "    while counter <= 100:\n",
        "        try:\n",
        "            get_augmented_image(original_photos[np.random.randint(n_items)]).save(\n",
        "                dest + \"{}_{}.jpg\".format(plant.replace(' ', '_'), counter)\n",
        "            )\n",
        "            counter += 1\n",
        "            print(\"\\r{}\".format(counter), end='')\n",
        "        except Exception as e:\n",
        "            print(\"\\nError encountered: \", photos_names[j])\n",
        "            print(e)"
      ],
      "metadata": {
        "id": "vegMIE4I6S-_"
      },
      "execution_count": null,
      "outputs": []
    },
    {
      "cell_type": "code",
      "source": [
        "for i, plant in enumerate(all_dirs):\n",
        "    print(\"[{:03}] '{}'\".format(i, plant))\n",
        "    original_photos = []\n",
        "    photos_names = []\n",
        "\n",
        "    for j, file in enumerate(os.listdir('gdrive/MyDrive/flower_data/val/' + plant)):\n",
        "        with Image.open('gdrive/MyDrive/flower_data/val/' + plant + '/' + file) as img:\n",
        "            original_photos += [img.copy()]\n",
        "            photos_names += ['gdrive/MyDrive/flower_data/val/' + plant + '/' + file]\n",
        "\n",
        "    dest = \"gdrive/MyDrive/flower_data/augmented/val/{}/\".format(plant)\n",
        "    os.makedirs(os.path.dirname(dest), exist_ok=True)\n",
        "\n",
        "    counter = 1\n",
        "\n",
        "    for j, img in enumerate(original_photos):\n",
        "        try:\n",
        "            img.convert('RGB').resize((224, 224)).save(\n",
        "                dest + \"{}_{}.jpg\".format(plant.replace(' ', '_'), counter)\n",
        "            )\n",
        "            counter += 1\n",
        "            print(\"\\r{}\".format(counter), end='')\n",
        "        except:\n",
        "            print(\"\\nError encountered: \", photos_names[j])\n",
        "            print(e)"
      ],
      "metadata": {
        "id": "BMw72-GzQRJY"
      },
      "execution_count": null,
      "outputs": []
    },
    {
      "cell_type": "code",
      "source": [
        "for i, plant in enumerate(all_dirs):\n",
        "    print(\"[{:03}] '{}'\".format(i, plant))\n",
        "    original_photos = []\n",
        "    photos_names = []\n",
        "\n",
        "    for j, file in enumerate(os.listdir('gdrive/MyDrive/flower_data/test/' + plant)):\n",
        "        with Image.open('gdrive/MyDrive/flower_data/test/' + plant + '/' + file) as img:\n",
        "            original_photos += [img.copy()]\n",
        "            photos_names += ['gdrive/MyDrive/flower_data/test/' + plant + '/' + file]\n",
        "\n",
        "    dest = \"gdrive/MyDrive/flower_data/augmented/test/{}/\".format(plant)\n",
        "    os.makedirs(os.path.dirname(dest), exist_ok=True)\n",
        "\n",
        "    counter = 1\n",
        "\n",
        "    for j, img in enumerate(original_photos):\n",
        "        try:\n",
        "            img.convert('RGB').resize((224, 224)).save(\n",
        "                dest + \"{}_{}.jpg\".format(plant.replace(' ', '_'), counter)\n",
        "            )\n",
        "            counter += 1\n",
        "            print(\"\\r{}\".format(counter), end='')\n",
        "        except:\n",
        "            print(\"\\nError encountered: \", photos_names[j])\n",
        "            print(e)"
      ],
      "metadata": {
        "id": "UenhwqBIC_z7"
      },
      "execution_count": null,
      "outputs": []
    },
    {
      "cell_type": "code",
      "source": [],
      "metadata": {
        "id": "2veQQCH6v5d1"
      },
      "execution_count": null,
      "outputs": []
    }
  ]
}
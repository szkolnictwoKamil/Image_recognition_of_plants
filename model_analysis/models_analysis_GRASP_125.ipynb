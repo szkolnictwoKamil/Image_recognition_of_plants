{
  "nbformat": 4,
  "nbformat_minor": 0,
  "metadata": {
    "colab": {
      "provenance": []
    },
    "kernelspec": {
      "name": "python3",
      "display_name": "Python 3"
    },
    "language_info": {
      "name": "python"
    },
    "accelerator": "GPU",
    "gpuClass": "standard"
  },
  "cells": [
    {
      "cell_type": "code",
      "execution_count": null,
      "metadata": {
        "id": "5J87yZqhfaxw"
      },
      "outputs": [],
      "source": [
        "from google.colab import drive\n",
        "drive.mount('/content/gdrive')"
      ]
    },
    {
      "cell_type": "code",
      "source": [
        "!unzip -q gdrive/MyDrive/plants/models/model_mobilenetv2_regularized_grasp_125.zip\n",
        "!unzip -q gdrive/MyDrive/plants/models/model_squeeze_excite_resnet_grasp_125.zip\n",
        "!unzip -q gdrive/MyDrive/plants/models/model_pca_based_grasp_125.zip\n",
        "!unzip -q gdrive/MyDrive/plants/models/model_pca_sepconv_grasp_125.zip\n",
        "!unzip -q gdrive/MyDrive/plants/models/model_lda_basd_grasp_125.zip\n",
        "!unzip -q gdrive/MyDrive/plants/models/model_lda_sepconv_grasp_125.zip"
      ],
      "metadata": {
        "id": "e3-qwonbfwPX"
      },
      "execution_count": null,
      "outputs": []
    },
    {
      "cell_type": "code",
      "source": [
        "import numpy as np\n",
        "import tensorflow as tf\n",
        "import matplotlib.pyplot as plt\n",
        "import os\n",
        "import pandas as pd\n",
        "from matplotlib.patches import Patch\n",
        "from sklearn.decomposition import PCA\n",
        "from sklearn.discriminant_analysis import LinearDiscriminantAnalysis as LDA\n",
        "from tensorflow import keras"
      ],
      "metadata": {
        "id": "u5qJd_bfgqyp"
      },
      "execution_count": null,
      "outputs": []
    },
    {
      "cell_type": "code",
      "source": [
        "model_mn2 = keras.applications.MobileNetV2(\n",
        "    input_shape=None, alpha=1.0, include_top=True, weights='imagenet',\n",
        "    input_tensor=None, pooling=None, classes=1000\n",
        ")\n",
        "layer_name = 'block_15_add'\n",
        "feature_extractor = keras.models.Model(inputs=model_mn2.input, outputs=model_mn2.get_layer(layer_name).output)"
      ],
      "metadata": {
        "id": "Ff9kq2JBgsAo"
      },
      "execution_count": null,
      "outputs": []
    },
    {
      "cell_type": "code",
      "source": [
        "feature_extractor.summary()"
      ],
      "metadata": {
        "id": "DcSEJmoigtyx"
      },
      "execution_count": null,
      "outputs": []
    },
    {
      "cell_type": "code",
      "source": [
        "model_mobilenetv2_regularized = tf.keras.models.load_model(\"model_mobilenetv2_regularized\")\n",
        "model_squeeze_excite_resnet = tf.keras.models.load_model(\"model_squeeze_excite_resnet\")\n",
        "model_pca_based = tf.keras.models.load_model(\"model_pca_based\")\n",
        "model_pca_sepconv = tf.keras.models.load_model(\"model_pca_sepconv\")\n",
        "model_lda_based = tf.keras.models.load_model(\"model_lda_based\")\n",
        "model_lda_sepconv = tf.keras.models.load_model(\"model_lda_sepconv\")"
      ],
      "metadata": {
        "id": "f5qmO0RFgwba"
      },
      "execution_count": null,
      "outputs": []
    },
    {
      "cell_type": "code",
      "source": [
        "model_mobilenetv2_regularized.summary()"
      ],
      "metadata": {
        "id": "VO7EpzouhEHO"
      },
      "execution_count": null,
      "outputs": []
    },
    {
      "cell_type": "code",
      "source": [
        "model_squeeze_excite_resnet.summary()"
      ],
      "metadata": {
        "id": "vqi0qePqhGEA"
      },
      "execution_count": null,
      "outputs": []
    },
    {
      "cell_type": "code",
      "source": [
        "model_pca_based.summary()"
      ],
      "metadata": {
        "id": "yD5YiBGnhIcb"
      },
      "execution_count": null,
      "outputs": []
    },
    {
      "cell_type": "code",
      "source": [
        "model_pca_sepconv.summary()"
      ],
      "metadata": {
        "id": "JE1yLzvav-SC"
      },
      "execution_count": null,
      "outputs": []
    },
    {
      "cell_type": "code",
      "source": [
        "model_lda_based.summary()"
      ],
      "metadata": {
        "id": "qjZrNrhvwDFu"
      },
      "execution_count": null,
      "outputs": []
    },
    {
      "cell_type": "code",
      "source": [
        "model_lda_sepconv.summary()"
      ],
      "metadata": {
        "id": "FGx0WBCTwI43"
      },
      "execution_count": null,
      "outputs": []
    },
    {
      "cell_type": "code",
      "source": [
        "plants_names = []\n",
        "\n",
        "for plant in os.listdir('gdrive/MyDrive/plants/grasp_125/encoded/train'):\n",
        "    plants_names += [plant.split('.npy')[0]]\n",
        "\n",
        "plants_names.sort()\n",
        "plant_name_to_id = {plant: i for i, plant in enumerate(plants_names)}"
      ],
      "metadata": {
        "id": "nUrBPXkjhNhU"
      },
      "execution_count": null,
      "outputs": []
    },
    {
      "cell_type": "code",
      "source": [
        "instances = {}\n",
        "labels = {}\n",
        "\n",
        "for set_kind in [\"test\", \"train\", \"val\"]:\n",
        "    X_per_class = []\n",
        "    y_per_class = []\n",
        "\n",
        "    for i, file in enumerate(os.listdir(f\"gdrive/MyDrive/plants/grasp_125/encoded/{set_kind}\")):\n",
        "        print(f\"\\r[{i}] {set_kind}/{file}\", end='')\n",
        "        plants_encoded = np.load(f\"gdrive/MyDrive/plants/grasp_125/encoded/{set_kind}/{file}\")\n",
        "        plant_name = file.split('.npy')[0]\n",
        "        \n",
        "        X_per_class += [plants_encoded.reshape([plants_encoded.shape[0], 49, 160])]\n",
        "        y_per_class += [plant_name_to_id[plant_name] for _ in range(plants_encoded.shape[0])]\n",
        "\n",
        "    instances[set_kind] = np.concatenate(X_per_class)\n",
        "    labels[set_kind] = np.array(y_per_class)"
      ],
      "metadata": {
        "id": "NcOTPUGDhcAg",
        "colab": {
          "base_uri": "https://localhost:8080/"
        },
        "outputId": "1ec15dfb-9430-4b0b-e02a-712a7aa06c7d"
      },
      "execution_count": null,
      "outputs": [
        {
          "output_type": "stream",
          "name": "stdout",
          "text": [
            "[124] val/894.npy"
          ]
        }
      ]
    },
    {
      "cell_type": "code",
      "source": [
        "n_classes = len(plants_names)\n",
        "\n",
        "X_train = instances['train']\n",
        "y_train = np.eye(n_classes)[labels['train']]\n",
        "\n",
        "X_valid = instances['val']\n",
        "y_valid = np.eye(n_classes)[labels['val']]\n",
        "\n",
        "X_test = instances['test']\n",
        "y_test = np.eye(n_classes)[labels['test']]"
      ],
      "metadata": {
        "id": "vd-H4DqChnsa"
      },
      "execution_count": null,
      "outputs": []
    },
    {
      "cell_type": "code",
      "source": [
        "grasp_125_classes = pd.read_csv(\"gdrive/MyDrive/plants/grasp-125_classes.csv\", header=None)"
      ],
      "metadata": {
        "id": "HNHYAp8Cjb3y"
      },
      "execution_count": null,
      "outputs": []
    },
    {
      "cell_type": "code",
      "source": [
        "def get_name_from_id(number):\n",
        "  number = int(number)\n",
        "  return list(grasp_125_classes[grasp_125_classes[0] == number][1])[0]"
      ],
      "metadata": {
        "id": "qPPgGsNakEOC"
      },
      "execution_count": null,
      "outputs": []
    },
    {
      "cell_type": "code",
      "source": [
        "model_mnv2 = keras.models.Sequential([\n",
        "    keras.layers.Input(shape=(224, 224, 3), dtype=tf.uint8),\n",
        "    keras.layers.Lambda(lambda x: tf.cast(x, dtype=tf.float32)),\n",
        "    keras.layers.Lambda(\n",
        "        tf.keras.applications.mobilenet_v2.preprocess_input, \n",
        "        name='preprocessing',\n",
        "        input_shape=(224, 224, 3),\n",
        "        dtype=tf.float32),\n",
        "    feature_extractor,\n",
        "    model_mobilenetv2_regularized\n",
        "])"
      ],
      "metadata": {
        "id": "50nq2cVPocKA"
      },
      "execution_count": null,
      "outputs": []
    },
    {
      "cell_type": "code",
      "source": [
        "model_seresnet = keras.models.Sequential([\n",
        "    keras.layers.Input(shape=(224, 224, 3), dtype=tf.uint8),\n",
        "    keras.layers.Lambda(lambda x: tf.cast(x, dtype=tf.float32)),\n",
        "    keras.layers.Lambda(\n",
        "        tf.keras.applications.mobilenet_v2.preprocess_input, \n",
        "        name='preprocessing',\n",
        "        input_shape=(224, 224, 3),\n",
        "        dtype=tf.float32),\n",
        "    feature_extractor,\n",
        "    model_squeeze_excite_resnet\n",
        "])"
      ],
      "metadata": {
        "id": "i-KWI9qSoeh-"
      },
      "execution_count": null,
      "outputs": []
    },
    {
      "cell_type": "code",
      "source": [
        "pca_per_filter = [\n",
        "    PCA(n_components=5).fit(X_train[..., i])\n",
        "    for i in range(X_train.shape[-1])\n",
        "]\n",
        "\n",
        "class PCATransformer(keras.layers.Layer):\n",
        "    def __init__(self, means, components, **kwargs):\n",
        "        super().__init__(**kwargs)\n",
        "        self.all_means = tf.reshape(tf.transpose(means), [1, 49, 160])\n",
        "        self.all_components = tf.transpose(components, perm=[0, 2, 1])\n",
        "    \n",
        "    @tf.function\n",
        "    def call(self, X):\n",
        "        return tf.transpose(tf.map_fn(\n",
        "            lambda inp: inp[0] @ inp[1],\n",
        "            (tf.transpose(X - self.all_means, perm=[2, 0, 1]), self.all_components),\n",
        "            fn_output_signature=tf.TensorSpec(shape=[None, 5])\n",
        "        ), perm=[1, 2, 0])\n",
        "    \n",
        "    def compute_output_shape(self, batch_input_shape):\n",
        "        return tf.TensorShape((batch_input_shape[0], 5, 160))\n",
        "    \n",
        "    def get_config(self):\n",
        "        base_config = super().get_config()\n",
        "        return {**base_config, \"mean\": self.means.numpy(), \"components\": self.components.numpy()}\n",
        "\n",
        "\n",
        "all_means = np.array([filter.mean_ for filter in pca_per_filter])\n",
        "all_components = np.array([filter.components_ for filter in pca_per_filter])\n",
        "\n",
        "model_pcadense = keras.models.Sequential([\n",
        "    keras.layers.Input(shape=(224, 224, 3), dtype=tf.uint8),\n",
        "    keras.layers.Lambda(lambda x: tf.cast(x, dtype=tf.float32)),\n",
        "    keras.layers.Lambda(\n",
        "        tf.keras.applications.mobilenet_v2.preprocess_input, \n",
        "        name='preprocessing',\n",
        "        input_shape=(224, 224, 3),\n",
        "        dtype=tf.float32),\n",
        "    feature_extractor,\n",
        "    keras.layers.Reshape(target_shape=[49, 160]),\n",
        "    PCATransformer(tf.constant(all_means), tf.constant(all_components)),\n",
        "    keras.layers.Flatten(input_shape=[5, 160]),\n",
        "    model_pca_based\n",
        "])\n",
        "\n",
        "model_pcasepconv = keras.models.Sequential([\n",
        "    keras.layers.Input(shape=(224, 224, 3), dtype=tf.uint8),\n",
        "    keras.layers.Lambda(lambda x: tf.cast(x, dtype=tf.float32)),\n",
        "    keras.layers.Lambda(\n",
        "        tf.keras.applications.mobilenet_v2.preprocess_input, \n",
        "        name='preprocessing',\n",
        "        input_shape=(224, 224, 3),\n",
        "        dtype=tf.float32),\n",
        "    feature_extractor,\n",
        "    keras.layers.Reshape(target_shape=[49, 160]),\n",
        "    PCATransformer(tf.constant(all_means), tf.constant(all_components)),\n",
        "    model_pca_sepconv\n",
        "])"
      ],
      "metadata": {
        "id": "S6C2lAsYofhJ"
      },
      "execution_count": null,
      "outputs": []
    },
    {
      "cell_type": "code",
      "source": [
        "pca_transformation = PCATransformer(tf.constant(all_means), tf.constant(all_components))"
      ],
      "metadata": {
        "id": "pFEtedH6or0k"
      },
      "execution_count": null,
      "outputs": []
    },
    {
      "cell_type": "code",
      "source": [
        "lda_per_filter = [\n",
        "    LDA(n_components=5).fit(X_train[..., i], np.argmax(y_train, axis=1))\n",
        "    for i in range(X_train.shape[-1])\n",
        "]\n",
        "\n",
        "class LDATransformer(keras.layers.Layer):\n",
        "    def __init__(self, means, components, **kwargs):\n",
        "        super().__init__(**kwargs)\n",
        "        self.all_means = tf.reshape(tf.transpose(means), [1, 49, 160])\n",
        "        self.all_components = tf.transpose(components, perm=[0, 1, 2])\n",
        "    \n",
        "    @tf.function\n",
        "    def call(self, X):\n",
        "        return tf.transpose(tf.map_fn(\n",
        "            lambda inp: inp[0] @ inp[1],\n",
        "            (tf.transpose(X - self.all_means, perm=[2, 0, 1]), self.all_components),\n",
        "            fn_output_signature=tf.TensorSpec(shape=[None, 5])\n",
        "        ), perm=[1, 2, 0])\n",
        "    \n",
        "    def compute_output_shape(self, batch_input_shape):\n",
        "        return tf.TensorShape((batch_input_shape[0], 5, 160))\n",
        "    \n",
        "    def get_config(self):\n",
        "        base_config = super().get_config()\n",
        "        return {**base_config, \"mean\": self.means.numpy(), \"components\": self.components.numpy()}\n",
        "\n",
        "\n",
        "all_means = np.array([filter.xbar_ for filter in lda_per_filter], dtype='float32')\n",
        "all_components = np.array([filter.scalings_[:, :5] for filter in lda_per_filter], dtype='float32')"
      ],
      "metadata": {
        "id": "HXpa9DeuJ693"
      },
      "execution_count": null,
      "outputs": []
    },
    {
      "cell_type": "code",
      "source": [
        "lda_transformation = LDATransformer(tf.constant(all_means), tf.constant(all_components))"
      ],
      "metadata": {
        "id": "gTFG8n_SKdYm"
      },
      "execution_count": null,
      "outputs": []
    },
    {
      "cell_type": "code",
      "source": [
        "def top_k_accuracy_score(y_true, y_pred, k=1):\n",
        "    ranks = np.sum(y_pred >= y_pred[y_true == 1].reshape(-1, 1), axis=1)\n",
        "    return np.sum(ranks <= k) / ranks.shape[0]"
      ],
      "metadata": {
        "id": "U4UfK3Z5otQP"
      },
      "execution_count": null,
      "outputs": []
    },
    {
      "cell_type": "code",
      "source": [
        "print(\"Validation set accuracy\")\n",
        "preds_valid_1 = model_mobilenetv2_regularized(tf.reshape(X_valid, [-1, 7, 7, 160])).numpy()\n",
        "\n",
        "print(\"TOP 1\", top_k_accuracy_score(y_valid, preds_valid_1, k=1))\n",
        "print(\"TOP 5\", top_k_accuracy_score(y_valid, preds_valid_1, k=5))\n",
        "\n",
        "print(\"Test set\")\n",
        "preds_test_aug_1 = model_mobilenetv2_regularized(tf.reshape(X_test, [-1, 7, 7, 160])).numpy()\n",
        "\n",
        "print(\"TOP 1\", top_k_accuracy_score(y_test, preds_test_aug_1, k=1))\n",
        "print(\"TOP 5\", top_k_accuracy_score(y_test, preds_test_aug_1, k=5))"
      ],
      "metadata": {
        "id": "M14oHJDJouLj"
      },
      "execution_count": null,
      "outputs": []
    },
    {
      "cell_type": "code",
      "source": [
        "print(\"Validation set accuracy\")\n",
        "preds_valid_2 = model_squeeze_excite_resnet(tf.reshape(X_valid, [-1, 7, 7, 160])).numpy()\n",
        "\n",
        "print(\"TOP 1\", top_k_accuracy_score(y_valid, preds_valid_2, k=1))\n",
        "print(\"TOP 5\", top_k_accuracy_score(y_valid, preds_valid_2, k=5))\n",
        "\n",
        "print(\"Test set\")\n",
        "preds_test_aug_2 = model_squeeze_excite_resnet(tf.reshape(X_test, [-1, 7, 7, 160])).numpy()\n",
        "\n",
        "print(\"TOP 1\", top_k_accuracy_score(y_test, preds_test_aug_2, k=1))\n",
        "print(\"TOP 5\", top_k_accuracy_score(y_test, preds_test_aug_2, k=5))"
      ],
      "metadata": {
        "id": "Ro-MYbSwpJk-"
      },
      "execution_count": null,
      "outputs": []
    },
    {
      "cell_type": "code",
      "source": [
        "print(\"Validation set accuracy\")\n",
        "preds_valid_3 = model_pca_based(tf.reshape(pca_transformation(X_valid), [-1, 800])).numpy()\n",
        "\n",
        "print(\"TOP 1\", top_k_accuracy_score(y_valid, preds_valid_3, k=1))\n",
        "print(\"TOP 5\", top_k_accuracy_score(y_valid, preds_valid_3, k=5))\n",
        "\n",
        "print(\"Test set\")\n",
        "preds_test_aug_3 = model_pca_based(tf.reshape(pca_transformation(X_test), [-1, 800])).numpy()\n",
        "\n",
        "print(\"TOP 1\", top_k_accuracy_score(y_test, preds_test_aug_3, k=1))\n",
        "print(\"TOP 5\", top_k_accuracy_score(y_test, preds_test_aug_3, k=5))"
      ],
      "metadata": {
        "id": "hc8m0ElspSm2"
      },
      "execution_count": null,
      "outputs": []
    },
    {
      "cell_type": "code",
      "source": [
        "print(\"Validation set accuracy\")\n",
        "preds_valid_4 = model_pca_sepconv(tf.reshape(pca_transformation(X_valid), [-1, 5, 160])).numpy()\n",
        "\n",
        "print(\"TOP 1\", top_k_accuracy_score(y_valid, preds_valid_4, k=1))\n",
        "print(\"TOP 5\", top_k_accuracy_score(y_valid, preds_valid_4, k=5))\n",
        "\n",
        "print(\"Test set\")\n",
        "preds_test_aug_4 = model_pca_sepconv(tf.reshape(pca_transformation(X_test), [-1, 5, 160])).numpy()\n",
        "\n",
        "print(\"TOP 1\", top_k_accuracy_score(y_test, preds_test_aug_4, k=1))\n",
        "print(\"TOP 5\", top_k_accuracy_score(y_test, preds_test_aug_4, k=5))"
      ],
      "metadata": {
        "id": "AJd4Q9eWxwBS"
      },
      "execution_count": null,
      "outputs": []
    },
    {
      "cell_type": "code",
      "source": [
        "print(\"Validation set accuracy\")\n",
        "preds_valid_4 = model_lda_based(tf.reshape(lda_transformation(X_valid), [-1, 800])).numpy()\n",
        "\n",
        "print(\"TOP 1\", top_k_accuracy_score(y_valid, preds_valid_4, k=1))\n",
        "print(\"TOP 5\", top_k_accuracy_score(y_valid, preds_valid_4, k=5))\n",
        "\n",
        "print(\"Test set\")\n",
        "preds_test_aug_4 = model_lda_based(tf.reshape(lda_transformation(X_test), [-1, 800])).numpy()\n",
        "\n",
        "print(\"TOP 1\", top_k_accuracy_score(y_test, preds_test_aug_4, k=1))\n",
        "print(\"TOP 5\", top_k_accuracy_score(y_test, preds_test_aug_4, k=5))"
      ],
      "metadata": {
        "id": "10o80SaU6HqD"
      },
      "execution_count": null,
      "outputs": []
    },
    {
      "cell_type": "code",
      "source": [
        "print(\"Validation set accuracy\")\n",
        "preds_valid_5 = model_lda_sepconv(tf.reshape(lda_transformation(X_valid), [-1, 5, 160])).numpy()\n",
        "\n",
        "print(\"TOP 1\", top_k_accuracy_score(y_valid, preds_valid_5, k=1))\n",
        "print(\"TOP 5\", top_k_accuracy_score(y_valid, preds_valid_5, k=5))\n",
        "\n",
        "print(\"Test set\")\n",
        "preds_test_aug_4 = model_lda_sepconv(tf.reshape(lda_transformation(X_test), [-1, 5, 160])).numpy()\n",
        "\n",
        "print(\"TOP 1\", top_k_accuracy_score(y_test, preds_test_aug_4, k=1))\n",
        "print(\"TOP 5\", top_k_accuracy_score(y_test, preds_test_aug_4, k=5))"
      ],
      "metadata": {
        "id": "E2gCLv5NI65y"
      },
      "execution_count": null,
      "outputs": []
    }
  ]
}
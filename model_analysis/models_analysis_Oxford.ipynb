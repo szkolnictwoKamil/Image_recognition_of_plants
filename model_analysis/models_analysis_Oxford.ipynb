{
  "nbformat": 4,
  "nbformat_minor": 0,
  "metadata": {
    "colab": {
      "provenance": []
    },
    "kernelspec": {
      "name": "python3",
      "display_name": "Python 3"
    },
    "language_info": {
      "name": "python"
    },
    "accelerator": "GPU",
    "gpuClass": "standard"
  },
  "cells": [
    {
      "cell_type": "code",
      "execution_count": null,
      "metadata": {
        "id": "5J87yZqhfaxw",
        "colab": {
          "base_uri": "https://localhost:8080/"
        },
        "outputId": "c3fa9523-0023-4847-98cc-9b0d1caa99ef"
      },
      "outputs": [
        {
          "output_type": "stream",
          "name": "stdout",
          "text": [
            "Mounted at /content/gdrive\n"
          ]
        }
      ],
      "source": [
        "from google.colab import drive\n",
        "drive.mount('/content/gdrive')"
      ]
    },
    {
      "cell_type": "code",
      "source": [
        "!unzip -q gdrive/MyDrive/flower_data/models/model_mobilenetv2_regularized.zip\n",
        "!unzip -q gdrive/MyDrive/flower_data/models/model_squeeze_excite_resnet.zip\n",
        "!unzip -q gdrive/MyDrive/flower_data/models/model_pca_basd.zip\n",
        "!unzip -q gdrive/MyDrive/flower_data/models/model_pca_sepconv.zip\n",
        "!unzip -q gdrive/MyDrive/flower_data/models/model_lda_basd.zip\n",
        "!unzip -q gdrive/MyDrive/flower_data/models/model_lda_sepconv.zip"
      ],
      "metadata": {
        "id": "e3-qwonbfwPX",
        "colab": {
          "base_uri": "https://localhost:8080/"
        },
        "outputId": "26ea7759-1f73-445a-d3cc-f38feb434aad"
      },
      "execution_count": null,
      "outputs": [
        {
          "output_type": "stream",
          "name": "stdout",
          "text": [
            "replace model_mobilenetv2_regularized_oxford102/fingerprint.pb? [y]es, [n]o, [A]ll, [N]one, [r]ename: replace model_squeeze_excite_resnet/fingerprint.pb? [y]es, [n]o, [A]ll, [N]one, [r]ename: replace model_pca_sepconv/fingerprint.pb? [y]es, [n]o, [A]ll, [N]one, [r]ename: replace model_lda_based/fingerprint.pb? [y]es, [n]o, [A]ll, [N]one, [r]ename: replace model_lda_sepconv/fingerprint.pb? [y]es, [n]o, [A]ll, [N]one, [r]ename: "
          ]
        }
      ]
    },
    {
      "cell_type": "code",
      "source": [
        "import numpy as np\n",
        "import tensorflow as tf\n",
        "import matplotlib.pyplot as plt\n",
        "import os\n",
        "import pandas as pd\n",
        "from matplotlib.patches import Patch\n",
        "from sklearn.decomposition import PCA\n",
        "from sklearn.discriminant_analysis import LinearDiscriminantAnalysis as LDA\n",
        "from tensorflow import keras"
      ],
      "metadata": {
        "id": "u5qJd_bfgqyp"
      },
      "execution_count": null,
      "outputs": []
    },
    {
      "cell_type": "code",
      "source": [
        "model_mn2 = keras.applications.MobileNetV2(\n",
        "    input_shape=None, alpha=1.0, include_top=True, weights='imagenet',\n",
        "    input_tensor=None, pooling=None, classes=1000\n",
        ")\n",
        "layer_name = 'block_15_add'\n",
        "feature_extractor = keras.models.Model(inputs=model_mn2.input, outputs=model_mn2.get_layer(layer_name).output)"
      ],
      "metadata": {
        "id": "Ff9kq2JBgsAo",
        "colab": {
          "base_uri": "https://localhost:8080/"
        },
        "outputId": "87c2c97b-ffad-47bc-eaf0-d514e36f2024"
      },
      "execution_count": null,
      "outputs": [
        {
          "output_type": "stream",
          "name": "stdout",
          "text": [
            "Downloading data from https://storage.googleapis.com/tensorflow/keras-applications/mobilenet_v2/mobilenet_v2_weights_tf_dim_ordering_tf_kernels_1.0_224.h5\n",
            "14536120/14536120 [==============================] - 0s 0us/step\n"
          ]
        }
      ]
    },
    {
      "cell_type": "code",
      "source": [
        "feature_extractor.summary()"
      ],
      "metadata": {
        "id": "DcSEJmoigtyx"
      },
      "execution_count": null,
      "outputs": []
    },
    {
      "cell_type": "code",
      "source": [
        "model_mobilenetv2_regularized = tf.keras.models.load_model(\"model_mobilenetv2_regularized_oxford102\")\n",
        "model_squeeze_excite_resnet = tf.keras.models.load_model(\"model_squeeze_excite_resnet\")\n",
        "model_pca_based = tf.keras.models.load_model(\"model_pca_based\")\n",
        "model_pca_sepconv = tf.keras.models.load_model(\"model_pca_sepconv\")\n",
        "model_lda_based = tf.keras.models.load_model(\"model_lda_based\")\n",
        "model_lda_sepconv = tf.keras.models.load_model(\"model_lda_sepconv\")"
      ],
      "metadata": {
        "id": "f5qmO0RFgwba"
      },
      "execution_count": null,
      "outputs": []
    },
    {
      "cell_type": "code",
      "source": [
        "model_mobilenetv2_regularized.summary()"
      ],
      "metadata": {
        "id": "VO7EpzouhEHO"
      },
      "execution_count": null,
      "outputs": []
    },
    {
      "cell_type": "code",
      "source": [
        "model_squeeze_excite_resnet.summary()"
      ],
      "metadata": {
        "id": "vqi0qePqhGEA"
      },
      "execution_count": null,
      "outputs": []
    },
    {
      "cell_type": "code",
      "source": [
        "model_pca_based.summary()"
      ],
      "metadata": {
        "id": "yD5YiBGnhIcb",
        "colab": {
          "base_uri": "https://localhost:8080/"
        },
        "outputId": "1233d478-444b-477b-bd47-5a35f6a25052"
      },
      "execution_count": null,
      "outputs": [
        {
          "output_type": "stream",
          "name": "stdout",
          "text": [
            "Model: \"sequential\"\n",
            "_________________________________________________________________\n",
            " Layer (type)                Output Shape              Param #   \n",
            "=================================================================\n",
            " batch_normalization (BatchN  (None, 800)              3200      \n",
            " ormalization)                                                   \n",
            "                                                                 \n",
            " dense (Dense)               (None, 256)               204800    \n",
            "                                                                 \n",
            " elu (ELU)                   (None, 256)               0         \n",
            "                                                                 \n",
            " dropout (Dropout)           (None, 256)               0         \n",
            "                                                                 \n",
            " batch_normalization_1 (Batc  (None, 256)              1024      \n",
            " hNormalization)                                                 \n",
            "                                                                 \n",
            " dense_1 (Dense)             (None, 480)               122880    \n",
            "                                                                 \n",
            " elu_1 (ELU)                 (None, 480)               0         \n",
            "                                                                 \n",
            " dropout_1 (Dropout)         (None, 480)               0         \n",
            "                                                                 \n",
            " dense_2 (Dense)             (None, 102)               49062     \n",
            "                                                                 \n",
            "=================================================================\n",
            "Total params: 380,966\n",
            "Trainable params: 378,854\n",
            "Non-trainable params: 2,112\n",
            "_________________________________________________________________\n"
          ]
        }
      ]
    },
    {
      "cell_type": "code",
      "source": [
        "model_pca_sepconv.summary()"
      ],
      "metadata": {
        "id": "JE1yLzvav-SC",
        "colab": {
          "base_uri": "https://localhost:8080/"
        },
        "outputId": "acbf24aa-8648-4cf5-8c52-c8ac0df999d5"
      },
      "execution_count": null,
      "outputs": [
        {
          "output_type": "stream",
          "name": "stdout",
          "text": [
            "Model: \"sequential\"\n",
            "_________________________________________________________________\n",
            " Layer (type)                Output Shape              Param #   \n",
            "=================================================================\n",
            " batch_normalization (BatchN  (None, 5, 160)           640       \n",
            " ormalization)                                                   \n",
            "                                                                 \n",
            " separable_conv1d (Separable  (None, 1, 320)           156320    \n",
            " Conv1D)                                                         \n",
            "                                                                 \n",
            " elu (ELU)                   (None, 1, 320)            0         \n",
            "                                                                 \n",
            " flatten (Flatten)           (None, 320)               0         \n",
            "                                                                 \n",
            " dropout (Dropout)           (None, 320)               0         \n",
            "                                                                 \n",
            " batch_normalization_1 (Batc  (None, 320)              1280      \n",
            " hNormalization)                                                 \n",
            "                                                                 \n",
            " dense (Dense)               (None, 480)               153600    \n",
            "                                                                 \n",
            " elu_1 (ELU)                 (None, 480)               0         \n",
            "                                                                 \n",
            " dropout_1 (Dropout)         (None, 480)               0         \n",
            "                                                                 \n",
            " dense_1 (Dense)             (None, 102)               49062     \n",
            "                                                                 \n",
            "=================================================================\n",
            "Total params: 360,902\n",
            "Trainable params: 359,942\n",
            "Non-trainable params: 960\n",
            "_________________________________________________________________\n"
          ]
        }
      ]
    },
    {
      "cell_type": "code",
      "source": [
        "model_lda_based.summary()"
      ],
      "metadata": {
        "id": "qjZrNrhvwDFu",
        "colab": {
          "base_uri": "https://localhost:8080/"
        },
        "outputId": "ba25b435-965e-49b6-9a0f-4ba9f80195cb"
      },
      "execution_count": null,
      "outputs": [
        {
          "output_type": "stream",
          "name": "stdout",
          "text": [
            "Model: \"sequential_1\"\n",
            "_________________________________________________________________\n",
            " Layer (type)                Output Shape              Param #   \n",
            "=================================================================\n",
            " batch_normalization_2 (Batc  (None, 800)              3200      \n",
            " hNormalization)                                                 \n",
            "                                                                 \n",
            " dense_3 (Dense)             (None, 256)               204800    \n",
            "                                                                 \n",
            " elu_2 (ELU)                 (None, 256)               0         \n",
            "                                                                 \n",
            " dropout_2 (Dropout)         (None, 256)               0         \n",
            "                                                                 \n",
            " batch_normalization_3 (Batc  (None, 256)              1024      \n",
            " hNormalization)                                                 \n",
            "                                                                 \n",
            " dense_4 (Dense)             (None, 480)               122880    \n",
            "                                                                 \n",
            " elu_3 (ELU)                 (None, 480)               0         \n",
            "                                                                 \n",
            " dropout_3 (Dropout)         (None, 480)               0         \n",
            "                                                                 \n",
            " dense_5 (Dense)             (None, 102)               49062     \n",
            "                                                                 \n",
            "=================================================================\n",
            "Total params: 380,966\n",
            "Trainable params: 378,854\n",
            "Non-trainable params: 2,112\n",
            "_________________________________________________________________\n"
          ]
        }
      ]
    },
    {
      "cell_type": "code",
      "source": [
        "model_lda_sepconv.summary()"
      ],
      "metadata": {
        "id": "FGx0WBCTwI43",
        "colab": {
          "base_uri": "https://localhost:8080/"
        },
        "outputId": "ebaa7320-13ee-478d-960a-e02024df907c"
      },
      "execution_count": null,
      "outputs": [
        {
          "output_type": "stream",
          "name": "stdout",
          "text": [
            "Model: \"sequential_2\"\n",
            "_________________________________________________________________\n",
            " Layer (type)                Output Shape              Param #   \n",
            "=================================================================\n",
            " batch_normalization_4 (Batc  (None, 5, 160)           640       \n",
            " hNormalization)                                                 \n",
            "                                                                 \n",
            " separable_conv1d (Separable  (None, 1, 320)           156320    \n",
            " Conv1D)                                                         \n",
            "                                                                 \n",
            " elu_4 (ELU)                 (None, 1, 320)            0         \n",
            "                                                                 \n",
            " flatten (Flatten)           (None, 320)               0         \n",
            "                                                                 \n",
            " dropout_4 (Dropout)         (None, 320)               0         \n",
            "                                                                 \n",
            " batch_normalization_5 (Batc  (None, 320)              1280      \n",
            " hNormalization)                                                 \n",
            "                                                                 \n",
            " dense_6 (Dense)             (None, 480)               153600    \n",
            "                                                                 \n",
            " elu_5 (ELU)                 (None, 480)               0         \n",
            "                                                                 \n",
            " dropout_5 (Dropout)         (None, 480)               0         \n",
            "                                                                 \n",
            " dense_7 (Dense)             (None, 102)               49062     \n",
            "                                                                 \n",
            "=================================================================\n",
            "Total params: 360,902\n",
            "Trainable params: 359,942\n",
            "Non-trainable params: 960\n",
            "_________________________________________________________________\n"
          ]
        }
      ]
    },
    {
      "cell_type": "code",
      "source": [
        "plants_names = []\n",
        "\n",
        "for plant in os.listdir('gdrive/MyDrive/flower_data/encoded/train'):\n",
        "    plants_names += [plant.split('.npy')[0]]\n",
        "\n",
        "plants_names.sort()\n",
        "plant_name_to_id = {plant: i for i, plant in enumerate(plants_names)}"
      ],
      "metadata": {
        "id": "nUrBPXkjhNhU"
      },
      "execution_count": null,
      "outputs": []
    },
    {
      "cell_type": "code",
      "source": [
        "instances = {}\n",
        "labels = {}\n",
        "\n",
        "for set_kind in [\"test\", \"train\", \"val\"]:\n",
        "    X_per_class = []\n",
        "    y_per_class = []\n",
        "\n",
        "    for i, file in enumerate(os.listdir(f\"gdrive/MyDrive/flower_data/encoded/{set_kind}\")):\n",
        "        print(f\"\\r[{i}] {set_kind}/{file}\", end='')\n",
        "        plants_encoded = np.load(f\"gdrive/MyDrive/flower_data/encoded/{set_kind}/{file}\")\n",
        "        plant_name = file.split('.npy')[0]\n",
        "\n",
        "        X_per_class += [plants_encoded.reshape([plants_encoded.shape[0], 49, 160])]\n",
        "        y_per_class += [plant_name_to_id[plant_name] for _ in range(plants_encoded.shape[0])]\n",
        "\n",
        "    instances[set_kind] = np.concatenate(X_per_class)\n",
        "    labels[set_kind] = np.array(y_per_class)"
      ],
      "metadata": {
        "id": "NcOTPUGDhcAg",
        "colab": {
          "base_uri": "https://localhost:8080/"
        },
        "outputId": "f90a9627-e0ac-4b39-fccd-524e90cc9436"
      },
      "execution_count": null,
      "outputs": [
        {
          "output_type": "stream",
          "name": "stdout",
          "text": [
            "[101] val/16.npy"
          ]
        }
      ]
    },
    {
      "cell_type": "code",
      "source": [
        "n_classes = len(plants_names)\n",
        "\n",
        "X_train = instances['train']\n",
        "y_train = np.eye(n_classes)[labels['train']]\n",
        "\n",
        "X_valid = instances['val']\n",
        "y_valid = np.eye(n_classes)[labels['val']]\n",
        "\n",
        "X_test = instances['test']\n",
        "y_test = np.eye(n_classes)[labels['test']]"
      ],
      "metadata": {
        "id": "vd-H4DqChnsa"
      },
      "execution_count": null,
      "outputs": []
    },
    {
      "cell_type": "code",
      "source": [
        "model_mnv2 = keras.models.Sequential([\n",
        "    keras.layers.Input(shape=(224, 224, 3), dtype=tf.uint8),\n",
        "    keras.layers.Lambda(lambda x: tf.cast(x, dtype=tf.float32)),\n",
        "    keras.layers.Lambda(\n",
        "        tf.keras.applications.mobilenet_v2.preprocess_input,\n",
        "        name='preprocessing',\n",
        "        input_shape=(224, 224, 3),\n",
        "        dtype=tf.float32),\n",
        "    feature_extractor,\n",
        "    model_mobilenetv2_regularized\n",
        "])"
      ],
      "metadata": {
        "id": "50nq2cVPocKA"
      },
      "execution_count": null,
      "outputs": []
    },
    {
      "cell_type": "code",
      "source": [
        "model_seresnet = keras.models.Sequential([\n",
        "    keras.layers.Input(shape=(224, 224, 3), dtype=tf.uint8),\n",
        "    keras.layers.Lambda(lambda x: tf.cast(x, dtype=tf.float32)),\n",
        "    keras.layers.Lambda(\n",
        "        tf.keras.applications.mobilenet_v2.preprocess_input,\n",
        "        name='preprocessing',\n",
        "        input_shape=(224, 224, 3),\n",
        "        dtype=tf.float32),\n",
        "    feature_extractor,\n",
        "    model_squeeze_excite_resnet\n",
        "])"
      ],
      "metadata": {
        "id": "i-KWI9qSoeh-"
      },
      "execution_count": null,
      "outputs": []
    },
    {
      "cell_type": "code",
      "source": [
        "pca_per_filter = [\n",
        "    PCA(n_components=5).fit(X_train[..., i])\n",
        "    for i in range(X_train.shape[-1])\n",
        "]\n",
        "\n",
        "class PCATransformer(keras.layers.Layer):\n",
        "    def __init__(self, means, components, **kwargs):\n",
        "        super().__init__(**kwargs)\n",
        "        self.all_means = tf.reshape(tf.transpose(means), [1, 49, 160])\n",
        "        self.all_components = tf.transpose(components, perm=[0, 2, 1])\n",
        "\n",
        "    @tf.function\n",
        "    def call(self, X):\n",
        "        return tf.transpose(tf.map_fn(\n",
        "            lambda inp: inp[0] @ inp[1],\n",
        "            (tf.transpose(X - self.all_means, perm=[2, 0, 1]), self.all_components),\n",
        "            fn_output_signature=tf.TensorSpec(shape=[None, 5])\n",
        "        ), perm=[1, 2, 0])\n",
        "\n",
        "    def compute_output_shape(self, batch_input_shape):\n",
        "        return tf.TensorShape((batch_input_shape[0], 5, 160))\n",
        "\n",
        "    def get_config(self):\n",
        "        base_config = super().get_config()\n",
        "        return {**base_config, \"mean\": self.means.numpy(), \"components\": self.components.numpy()}\n",
        "\n",
        "\n",
        "all_means = np.array([filter.mean_ for filter in pca_per_filter])\n",
        "all_components = np.array([filter.components_ for filter in pca_per_filter])\n",
        "\n",
        "model_pcadense = keras.models.Sequential([\n",
        "    keras.layers.Input(shape=(224, 224, 3), dtype=tf.uint8),\n",
        "    keras.layers.Lambda(lambda x: tf.cast(x, dtype=tf.float32)),\n",
        "    keras.layers.Lambda(\n",
        "        tf.keras.applications.mobilenet_v2.preprocess_input,\n",
        "        name='preprocessing',\n",
        "        input_shape=(224, 224, 3),\n",
        "        dtype=tf.float32),\n",
        "    feature_extractor,\n",
        "    keras.layers.Reshape(target_shape=[49, 160]),\n",
        "    PCATransformer(tf.constant(all_means), tf.constant(all_components)),\n",
        "    keras.layers.Flatten(input_shape=[5, 160]),\n",
        "    model_pca_based\n",
        "])\n",
        "\n",
        "model_pcasepconv = keras.models.Sequential([\n",
        "    keras.layers.Input(shape=(224, 224, 3), dtype=tf.uint8),\n",
        "    keras.layers.Lambda(lambda x: tf.cast(x, dtype=tf.float32)),\n",
        "    keras.layers.Lambda(\n",
        "        tf.keras.applications.mobilenet_v2.preprocess_input,\n",
        "        name='preprocessing',\n",
        "        input_shape=(224, 224, 3),\n",
        "        dtype=tf.float32),\n",
        "    feature_extractor,\n",
        "    keras.layers.Reshape(target_shape=[49, 160]),\n",
        "    PCATransformer(tf.constant(all_means), tf.constant(all_components)),\n",
        "    model_pca_sepconv\n",
        "])"
      ],
      "metadata": {
        "id": "S6C2lAsYofhJ"
      },
      "execution_count": null,
      "outputs": []
    },
    {
      "cell_type": "code",
      "source": [
        "pca_transformation = PCATransformer(tf.constant(all_means), tf.constant(all_components))"
      ],
      "metadata": {
        "id": "pFEtedH6or0k"
      },
      "execution_count": null,
      "outputs": []
    },
    {
      "cell_type": "code",
      "source": [
        "lda_per_filter = [\n",
        "    LDA(n_components=5).fit(X_train[..., i], np.argmax(y_train, axis=1))\n",
        "    for i in range(X_train.shape[-1])\n",
        "]\n",
        "\n",
        "class LDATransformer(keras.layers.Layer):\n",
        "    def __init__(self, means, components, **kwargs):\n",
        "        super().__init__(**kwargs)\n",
        "        self.all_means = tf.reshape(tf.transpose(means), [1, 49, 160])\n",
        "        self.all_components = tf.transpose(components, perm=[0, 1, 2])\n",
        "\n",
        "    @tf.function\n",
        "    def call(self, X):\n",
        "        return tf.transpose(tf.map_fn(\n",
        "            lambda inp: inp[0] @ inp[1],\n",
        "            (tf.transpose(X - self.all_means, perm=[2, 0, 1]), self.all_components),\n",
        "            fn_output_signature=tf.TensorSpec(shape=[None, 5])\n",
        "        ), perm=[1, 2, 0])\n",
        "\n",
        "    def compute_output_shape(self, batch_input_shape):\n",
        "        return tf.TensorShape((batch_input_shape[0], 5, 160))\n",
        "\n",
        "    def get_config(self):\n",
        "        base_config = super().get_config()\n",
        "        return {**base_config, \"mean\": self.means.numpy(), \"components\": self.components.numpy()}\n",
        "\n",
        "\n",
        "all_means = np.array([filter.xbar_ for filter in lda_per_filter], dtype='float32')\n",
        "all_components = np.array([filter.scalings_[:, :5] for filter in lda_per_filter], dtype='float32')"
      ],
      "metadata": {
        "id": "HXpa9DeuJ693"
      },
      "execution_count": null,
      "outputs": []
    },
    {
      "cell_type": "code",
      "source": [
        "lda_transformation = LDATransformer(tf.constant(all_means), tf.constant(all_components))"
      ],
      "metadata": {
        "id": "gTFG8n_SKdYm"
      },
      "execution_count": null,
      "outputs": []
    },
    {
      "cell_type": "code",
      "source": [
        "def top_k_accuracy_score(y_true, y_pred, k=1):\n",
        "    ranks = np.sum(y_pred >= y_pred[y_true == 1].reshape(-1, 1), axis=1)\n",
        "    return np.sum(ranks <= k) / ranks.shape[0]"
      ],
      "metadata": {
        "id": "U4UfK3Z5otQP"
      },
      "execution_count": null,
      "outputs": []
    },
    {
      "cell_type": "code",
      "source": [
        "print(\"Validation set accuracy\")\n",
        "preds_valid_1 = model_mobilenetv2_regularized(tf.reshape(X_valid, [-1, 7, 7, 160])).numpy()\n",
        "\n",
        "print(\"TOP 1\", top_k_accuracy_score(y_valid, preds_valid_1, k=1))\n",
        "print(\"TOP 5\", top_k_accuracy_score(y_valid, preds_valid_1, k=5))\n",
        "\n",
        "print(\"Test set\")\n",
        "preds_test_aug_1 = model_mobilenetv2_regularized(tf.reshape(X_test, [-1, 7, 7, 160])).numpy()\n",
        "\n",
        "print(\"TOP 1\", top_k_accuracy_score(y_test, preds_test_aug_1, k=1))\n",
        "print(\"TOP 5\", top_k_accuracy_score(y_test, preds_test_aug_1, k=5))"
      ],
      "metadata": {
        "id": "M14oHJDJouLj",
        "colab": {
          "base_uri": "https://localhost:8080/"
        },
        "outputId": "4dddc0b0-ff3b-41e3-b2ca-361909578233"
      },
      "execution_count": null,
      "outputs": [
        {
          "output_type": "stream",
          "name": "stdout",
          "text": [
            "Validation set accuracy\n",
            "TOP 1 0.9747899159663865\n",
            "TOP 5 0.9957983193277311\n",
            "Test set\n",
            "TOP 1 0.9572127139364304\n",
            "TOP 5 0.9902200488997555\n"
          ]
        }
      ]
    },
    {
      "cell_type": "code",
      "source": [
        "print(\"Validation set accuracy\")\n",
        "preds_valid_2 = model_squeeze_excite_resnet(tf.reshape(X_valid, [-1, 7, 7, 160])).numpy()\n",
        "\n",
        "print(\"TOP 1\", top_k_accuracy_score(y_valid, preds_valid_2, k=1))\n",
        "print(\"TOP 5\", top_k_accuracy_score(y_valid, preds_valid_2, k=5))\n",
        "\n",
        "print(\"Test set\")\n",
        "preds_test_aug_2 = model_squeeze_excite_resnet(tf.reshape(X_test, [-1, 7, 7, 160])).numpy()\n",
        "\n",
        "print(\"TOP 1\", top_k_accuracy_score(y_test, preds_test_aug_2, k=1))\n",
        "print(\"TOP 5\", top_k_accuracy_score(y_test, preds_test_aug_2, k=5))"
      ],
      "metadata": {
        "id": "Ro-MYbSwpJk-",
        "colab": {
          "base_uri": "https://localhost:8080/"
        },
        "outputId": "afa70feb-af0b-476e-f5f0-7f4507906056"
      },
      "execution_count": null,
      "outputs": [
        {
          "output_type": "stream",
          "name": "stdout",
          "text": [
            "Validation set accuracy\n",
            "TOP 1 0.9229691876750701\n",
            "TOP 5 0.9943977591036415\n",
            "Test set\n",
            "TOP 1 0.91320293398533\n",
            "TOP 5 0.988997555012225\n"
          ]
        }
      ]
    },
    {
      "cell_type": "code",
      "source": [
        "print(\"Validation set accuracy\")\n",
        "preds_valid_3 = model_pca_based(tf.reshape(pca_transformation(X_valid), [-1, 800])).numpy()\n",
        "\n",
        "print(\"TOP 1\", top_k_accuracy_score(y_valid, preds_valid_3, k=1))\n",
        "print(\"TOP 5\", top_k_accuracy_score(y_valid, preds_valid_3, k=5))\n",
        "\n",
        "print(\"Test set\")\n",
        "preds_test_aug_3 = model_pca_based(tf.reshape(pca_transformation(X_test), [-1, 800])).numpy()\n",
        "\n",
        "print(\"TOP 1\", top_k_accuracy_score(y_test, preds_test_aug_3, k=1))\n",
        "print(\"TOP 5\", top_k_accuracy_score(y_test, preds_test_aug_3, k=5))"
      ],
      "metadata": {
        "id": "hc8m0ElspSm2",
        "colab": {
          "base_uri": "https://localhost:8080/"
        },
        "outputId": "057afd3d-8880-476f-84c9-fd536dc57542"
      },
      "execution_count": null,
      "outputs": [
        {
          "output_type": "stream",
          "name": "stdout",
          "text": [
            "Validation set accuracy\n",
            "TOP 1 0.9117647058823529\n",
            "TOP 5 0.9845938375350141\n",
            "Test set\n",
            "TOP 1 0.9058679706601467\n",
            "TOP 5 0.9779951100244498\n"
          ]
        }
      ]
    },
    {
      "cell_type": "code",
      "source": [
        "print(\"Validation set accuracy\")\n",
        "preds_valid_4 = model_pca_sepconv(tf.reshape(pca_transformation(X_valid), [-1, 5, 160])).numpy()\n",
        "\n",
        "print(\"TOP 1\", top_k_accuracy_score(y_valid, preds_valid_4, k=1))\n",
        "print(\"TOP 5\", top_k_accuracy_score(y_valid, preds_valid_4, k=5))\n",
        "\n",
        "print(\"Test set\")\n",
        "preds_test_aug_4 = model_pca_sepconv(tf.reshape(pca_transformation(X_test), [-1, 5, 160])).numpy()\n",
        "\n",
        "print(\"TOP 1\", top_k_accuracy_score(y_test, preds_test_aug_4, k=1))\n",
        "print(\"TOP 5\", top_k_accuracy_score(y_test, preds_test_aug_4, k=5))"
      ],
      "metadata": {
        "id": "AJd4Q9eWxwBS",
        "colab": {
          "base_uri": "https://localhost:8080/"
        },
        "outputId": "725f77f0-1097-4b88-d63a-6c3ecaf1754e"
      },
      "execution_count": null,
      "outputs": [
        {
          "output_type": "stream",
          "name": "stdout",
          "text": [
            "Validation set accuracy\n",
            "TOP 1 0.9243697478991597\n",
            "TOP 5 0.9929971988795518\n",
            "Test set\n",
            "TOP 1 0.9144254278728606\n",
            "TOP 5 0.9865525672371638\n"
          ]
        }
      ]
    },
    {
      "cell_type": "code",
      "source": [
        "print(\"Validation set accuracy\")\n",
        "preds_valid_4 = model_lda_based(tf.reshape(lda_transformation(X_valid), [-1, 800])).numpy()\n",
        "\n",
        "print(\"TOP 1\", top_k_accuracy_score(y_valid, preds_valid_4, k=1))\n",
        "print(\"TOP 5\", top_k_accuracy_score(y_valid, preds_valid_4, k=5))\n",
        "\n",
        "print(\"Test set\")\n",
        "preds_test_aug_4 = model_lda_based(tf.reshape(lda_transformation(X_test), [-1, 800])).numpy()\n",
        "\n",
        "print(\"TOP 1\", top_k_accuracy_score(y_test, preds_test_aug_4, k=1))\n",
        "print(\"TOP 5\", top_k_accuracy_score(y_test, preds_test_aug_4, k=5))"
      ],
      "metadata": {
        "id": "10o80SaU6HqD",
        "colab": {
          "base_uri": "https://localhost:8080/"
        },
        "outputId": "0f1598d3-153d-497e-f71d-555ef6b4e74b"
      },
      "execution_count": null,
      "outputs": [
        {
          "output_type": "stream",
          "name": "stdout",
          "text": [
            "Validation set accuracy\n",
            "TOP 1 0.9047619047619048\n",
            "TOP 5 0.9873949579831933\n",
            "Test set\n",
            "TOP 1 0.8948655256723717\n",
            "TOP 5 0.9792176039119804\n"
          ]
        }
      ]
    },
    {
      "cell_type": "code",
      "source": [
        "print(\"Validation set accuracy\")\n",
        "preds_valid_5 = model_lda_sepconv(tf.reshape(lda_transformation(X_valid), [-1, 5, 160])).numpy()\n",
        "\n",
        "print(\"TOP 1\", top_k_accuracy_score(y_valid, preds_valid_5, k=1))\n",
        "print(\"TOP 5\", top_k_accuracy_score(y_valid, preds_valid_5, k=5))\n",
        "\n",
        "print(\"Test set\")\n",
        "preds_test_aug_4 = model_lda_sepconv(tf.reshape(lda_transformation(X_test), [-1, 5, 160])).numpy()\n",
        "\n",
        "print(\"TOP 1\", top_k_accuracy_score(y_test, preds_test_aug_4, k=1))\n",
        "print(\"TOP 5\", top_k_accuracy_score(y_test, preds_test_aug_4, k=5))"
      ],
      "metadata": {
        "id": "E2gCLv5NI65y",
        "colab": {
          "base_uri": "https://localhost:8080/"
        },
        "outputId": "8efbe6df-b9c4-4c5a-f609-ff15c6bd9139"
      },
      "execution_count": null,
      "outputs": [
        {
          "output_type": "stream",
          "name": "stdout",
          "text": [
            "Validation set accuracy\n",
            "TOP 1 0.9285714285714286\n",
            "TOP 5 0.9901960784313726\n",
            "Test set\n",
            "TOP 1 0.8973105134474327\n",
            "TOP 5 0.9828850855745721\n"
          ]
        }
      ]
    },
    {
      "cell_type": "code",
      "source": [],
      "metadata": {
        "id": "afZ708o1-dEC"
      },
      "execution_count": null,
      "outputs": []
    }
  ]
}